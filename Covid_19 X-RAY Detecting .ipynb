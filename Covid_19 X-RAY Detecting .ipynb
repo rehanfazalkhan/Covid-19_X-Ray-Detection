{
 "cells": [
  {
   "cell_type": "markdown",
   "metadata": {},
   "source": [
    "# Detecting COVID-19 in X-ray(VGG-16)"
   ]
  },
  {
   "cell_type": "markdown",
   "metadata": {},
   "source": [
    "### Import Libraries"
   ]
  },
  {
   "cell_type": "code",
   "execution_count": 1,
   "metadata": {},
   "outputs": [],
   "source": [
    "import os\n",
    "import cv2\n",
    "import numpy as np\n",
    "import argparse\n",
    "import matplotlib.pyplot as plt\n",
    "\n",
    "from imutils import paths\n",
    "from sklearn.metrics import confusion_matrix\n",
    "from sklearn.metrics import classification_report\n",
    "from sklearn.model_selection import train_test_split\n",
    "from sklearn.preprocessing import LabelBinarizer\n",
    "\n",
    "from tensorflow.keras.models import Model\n",
    "from tensorflow.keras.utils import to_categorical\n",
    "from tensorflow.keras.applications import VGG16\n",
    "from tensorflow.keras.layers import Dense\n",
    "from tensorflow.keras.layers import Dropout\n",
    "from tensorflow.keras.layers import Flatten\n",
    "from tensorflow.keras.layers import AveragePooling2D\n",
    "from tensorflow.keras.layers import Input\n",
    "from tensorflow.keras.optimizers import Adam\n",
    "from tensorflow.keras.preprocessing.image import img_to_array\n",
    "from tensorflow.keras.preprocessing.image import load_img\n",
    "from tensorflow.keras.applications.resnet50 import preprocess_input\n",
    "from tensorflow.keras.preprocessing.image import ImageDataGenerator"
   ]
  },
  {
   "cell_type": "markdown",
   "metadata": {},
   "source": [
    "### Preprocess Data"
   ]
  },
  {
   "cell_type": "code",
   "execution_count": 2,
   "metadata": {},
   "outputs": [],
   "source": [
    "# list of images in datasets\n",
    "image_paths = list(paths.list_images(r\"C:\\Users\\SRKT\\Desktop\\Covid_xray\"))\n",
    "\n",
    "data= []\n",
    "labels = []\n",
    "\n",
    "for image_path in image_paths:\n",
    "    \n",
    "    # extract the class name from file name\n",
    "    label = image_path.split(os.path.sep)[-2]\n",
    "    \n",
    "    image=cv2.imread(image_path)\n",
    "    image=cv2.cvtColor(image,cv2.COLOR_BGR2RGB)\n",
    "    image=cv2.resize(image,(224,224))\n",
    "    \n",
    "    # load image, swap channels and resize it\n",
    "    #image=load_img(image_path,target_size=(224,224)) #load image\n",
    "    #image=img_to_array(image) # add channel\n",
    "    #image=np.expand_dims(image,axis=0) # add the number of image\n",
    "    #image=preprocess_input(image) # subtracts the mean RGB channles of imagenet datset.\n",
    "    \n",
    "    # update the data and labels\n",
    "    data.append(image)\n",
    "    labels.append(label)\n",
    "    \n",
    "# convert the data to numpy array while scaling pixel range from [0,1]\n",
    "data=np.array(data,dtype=\"float32\")/255.0\n",
    "labels=np.array(labels)"
   ]
  },
  {
   "cell_type": "code",
   "execution_count": 3,
   "metadata": {},
   "outputs": [],
   "source": [
    "# perform one-hot encoding on the labels\n",
    "lb=LabelBinarizer()\n",
    "labels=lb.fit_transform(labels)\n",
    "labels = to_categorical(labels) # onehot vector"
   ]
  },
  {
   "cell_type": "markdown",
   "metadata": {},
   "source": [
    "#### Spliting Data into Train_Test"
   ]
  },
  {
   "cell_type": "code",
   "execution_count": 4,
   "metadata": {},
   "outputs": [],
   "source": [
    "(x_train,x_test,y_train,y_test)=train_test_split(data,labels,test_size=0.20,stratify=labels,random_state=42)\n",
    "# stratify split in same way as labels has %of 0 and %1\n",
    "\n",
    "# initialize the training dat augmentation\n",
    "train_aug=ImageDataGenerator(rotation_range=15,\n",
    "                             fill_mode=\"nearest\" )"
   ]
  },
  {
   "cell_type": "markdown",
   "metadata": {},
   "source": [
    "### Model Bulding"
   ]
  },
  {
   "cell_type": "code",
   "execution_count": 5,
   "metadata": {},
   "outputs": [],
   "source": [
    "# load Resnet network ,ensuring the head FC layer sets are left off\n",
    "base_model=VGG16(weights=\"imagenet\",include_top=False,input_tensor=Input(shape=(224,224,3)))\n",
    "\n",
    "# construct head of the model it will placed on top of base model\n",
    "head_model=base_model.output\n",
    "head_model=AveragePooling2D(pool_size=(4,4))(head_model)\n",
    "head_model=Flatten()(head_model)\n",
    "head_model=Dense(128,activation=\"relu\")(head_model)\n",
    "head_model=Dropout(0.5)(head_model)\n",
    "head_model=Dense(2,activation=\"softmax\")(head_model)"
   ]
  },
  {
   "cell_type": "code",
   "execution_count": 6,
   "metadata": {},
   "outputs": [],
   "source": [
    "# place head model in top of base model , which final model which we will train\n",
    "model=Model(inputs=base_model.input,outputs=head_model)\n",
    "\n",
    "# loop over all the layers in the base model and freeze them so that they will not update in training\n",
    "for layer in base_model.layers:\n",
    "    layer.trainable=False"
   ]
  },
  {
   "cell_type": "markdown",
   "metadata": {},
   "source": [
    "### Train the Model"
   ]
  },
  {
   "cell_type": "code",
   "execution_count": 7,
   "metadata": {
    "scrolled": true
   },
   "outputs": [
    {
     "name": "stdout",
     "output_type": "stream",
     "text": [
      "Epoch 1/50\n",
      "62/62 [==============================] - 37s 599ms/step - loss: 0.6756 - accuracy: 0.5811 - val_loss: 0.6076 - val_accuracy: 0.6439\n",
      "Epoch 2/50\n",
      "62/62 [==============================] - 34s 543ms/step - loss: 0.6020 - accuracy: 0.6704 - val_loss: 0.5855 - val_accuracy: 0.6398\n",
      "Epoch 3/50\n",
      "62/62 [==============================] - 37s 605ms/step - loss: 0.5772 - accuracy: 0.6850 - val_loss: 0.5520 - val_accuracy: 0.6922\n",
      "Epoch 4/50\n",
      "62/62 [==============================] - 39s 635ms/step - loss: 0.5606 - accuracy: 0.7056 - val_loss: 0.4983 - val_accuracy: 0.7746\n",
      "Epoch 5/50\n",
      "62/62 [==============================] - 39s 625ms/step - loss: 0.5353 - accuracy: 0.7167 - val_loss: 0.4835 - val_accuracy: 0.7847\n",
      "Epoch 6/50\n",
      "62/62 [==============================] - 41s 654ms/step - loss: 0.5115 - accuracy: 0.7485 - val_loss: 0.5241 - val_accuracy: 0.7223\n",
      "Epoch 7/50\n",
      "62/62 [==============================] - 40s 643ms/step - loss: 0.5082 - accuracy: 0.7470 - val_loss: 0.4551 - val_accuracy: 0.7847\n",
      "Epoch 8/50\n",
      "62/62 [==============================] - 40s 640ms/step - loss: 0.4858 - accuracy: 0.7681 - val_loss: 0.4416 - val_accuracy: 0.7988\n",
      "Epoch 9/50\n",
      "62/62 [==============================] - 41s 660ms/step - loss: 0.4829 - accuracy: 0.7697 - val_loss: 0.4335 - val_accuracy: 0.8089\n",
      "Epoch 10/50\n",
      "62/62 [==============================] - 39s 634ms/step - loss: 0.4764 - accuracy: 0.7692 - val_loss: 0.4300 - val_accuracy: 0.8068\n",
      "Epoch 11/50\n",
      "62/62 [==============================] - 39s 637ms/step - loss: 0.4649 - accuracy: 0.7757 - val_loss: 0.4114 - val_accuracy: 0.8028\n",
      "Epoch 12/50\n",
      "62/62 [==============================] - 41s 658ms/step - loss: 0.4431 - accuracy: 0.7923 - val_loss: 0.4253 - val_accuracy: 0.7968\n",
      "Epoch 13/50\n",
      "62/62 [==============================] - 39s 634ms/step - loss: 0.4444 - accuracy: 0.7928 - val_loss: 0.4424 - val_accuracy: 0.7867\n",
      "Epoch 14/50\n",
      "62/62 [==============================] - 39s 634ms/step - loss: 0.4374 - accuracy: 0.7908 - val_loss: 0.4030 - val_accuracy: 0.8169\n",
      "Epoch 15/50\n",
      "62/62 [==============================] - 41s 658ms/step - loss: 0.4314 - accuracy: 0.7959 - val_loss: 0.3970 - val_accuracy: 0.8149\n",
      "Epoch 16/50\n",
      "62/62 [==============================] - 40s 653ms/step - loss: 0.4262 - accuracy: 0.7984 - val_loss: 0.4203 - val_accuracy: 0.8028\n",
      "Epoch 17/50\n",
      "62/62 [==============================] - 40s 647ms/step - loss: 0.4254 - accuracy: 0.7974 - val_loss: 0.3962 - val_accuracy: 0.8149\n",
      "Epoch 18/50\n",
      "62/62 [==============================] - 42s 680ms/step - loss: 0.4045 - accuracy: 0.8211 - val_loss: 0.3766 - val_accuracy: 0.8270\n",
      "Epoch 19/50\n",
      "62/62 [==============================] - 40s 644ms/step - loss: 0.4065 - accuracy: 0.8049 - val_loss: 0.3757 - val_accuracy: 0.8249\n",
      "Epoch 20/50\n",
      "62/62 [==============================] - 40s 639ms/step - loss: 0.3918 - accuracy: 0.8206 - val_loss: 0.3891 - val_accuracy: 0.8249\n",
      "Epoch 21/50\n",
      "62/62 [==============================] - 41s 666ms/step - loss: 0.3782 - accuracy: 0.8281 - val_loss: 0.3770 - val_accuracy: 0.8290\n",
      "Epoch 22/50\n",
      "62/62 [==============================] - 40s 647ms/step - loss: 0.3964 - accuracy: 0.8110 - val_loss: 0.3664 - val_accuracy: 0.8330\n",
      "Epoch 23/50\n",
      "62/62 [==============================] - 39s 629ms/step - loss: 0.3931 - accuracy: 0.8155 - val_loss: 0.3961 - val_accuracy: 0.8149\n",
      "Epoch 24/50\n",
      "62/62 [==============================] - 41s 668ms/step - loss: 0.3761 - accuracy: 0.8301 - val_loss: 0.3732 - val_accuracy: 0.8310\n",
      "Epoch 25/50\n",
      "62/62 [==============================] - 39s 635ms/step - loss: 0.3694 - accuracy: 0.8357 - val_loss: 0.3756 - val_accuracy: 0.8410\n",
      "Epoch 26/50\n",
      "62/62 [==============================] - 40s 643ms/step - loss: 0.3604 - accuracy: 0.8443 - val_loss: 0.3577 - val_accuracy: 0.8431\n",
      "Epoch 27/50\n",
      "62/62 [==============================] - 42s 670ms/step - loss: 0.3833 - accuracy: 0.8246 - val_loss: 0.3954 - val_accuracy: 0.8249\n",
      "Epoch 28/50\n",
      "62/62 [==============================] - 40s 638ms/step - loss: 0.3852 - accuracy: 0.8246 - val_loss: 0.3579 - val_accuracy: 0.8451\n",
      "Epoch 29/50\n",
      "62/62 [==============================] - 40s 648ms/step - loss: 0.3590 - accuracy: 0.8362 - val_loss: 0.3368 - val_accuracy: 0.8410\n",
      "Epoch 30/50\n",
      "62/62 [==============================] - 43s 688ms/step - loss: 0.3618 - accuracy: 0.8372 - val_loss: 0.3668 - val_accuracy: 0.8431\n",
      "Epoch 31/50\n",
      "62/62 [==============================] - 39s 635ms/step - loss: 0.3518 - accuracy: 0.8558 - val_loss: 0.3346 - val_accuracy: 0.8571\n",
      "Epoch 32/50\n",
      "62/62 [==============================] - 39s 634ms/step - loss: 0.3395 - accuracy: 0.8503 - val_loss: 0.3439 - val_accuracy: 0.8571\n",
      "Epoch 33/50\n",
      "62/62 [==============================] - 42s 670ms/step - loss: 0.3385 - accuracy: 0.8458 - val_loss: 0.3420 - val_accuracy: 0.8592\n",
      "Epoch 34/50\n",
      "62/62 [==============================] - 40s 641ms/step - loss: 0.3582 - accuracy: 0.8362 - val_loss: 0.3483 - val_accuracy: 0.8571\n",
      "Epoch 35/50\n",
      "62/62 [==============================] - 39s 624ms/step - loss: 0.3244 - accuracy: 0.8533 - val_loss: 0.3270 - val_accuracy: 0.8390\n",
      "Epoch 36/50\n",
      "62/62 [==============================] - 42s 672ms/step - loss: 0.3295 - accuracy: 0.8574 - val_loss: 0.3176 - val_accuracy: 0.8571\n",
      "Epoch 37/50\n",
      "62/62 [==============================] - 40s 644ms/step - loss: 0.3357 - accuracy: 0.8528 - val_loss: 0.3434 - val_accuracy: 0.8571\n",
      "Epoch 38/50\n",
      "62/62 [==============================] - 39s 626ms/step - loss: 0.3226 - accuracy: 0.8533 - val_loss: 0.3366 - val_accuracy: 0.8551\n",
      "Epoch 39/50\n",
      "62/62 [==============================] - 42s 670ms/step - loss: 0.3216 - accuracy: 0.8619 - val_loss: 0.3702 - val_accuracy: 0.8431\n",
      "Epoch 40/50\n",
      "62/62 [==============================] - 39s 637ms/step - loss: 0.3240 - accuracy: 0.8574 - val_loss: 0.3201 - val_accuracy: 0.8672\n",
      "Epoch 41/50\n",
      "62/62 [==============================] - 39s 631ms/step - loss: 0.3069 - accuracy: 0.8690 - val_loss: 0.3138 - val_accuracy: 0.8592\n",
      "Epoch 42/50\n",
      "62/62 [==============================] - 41s 663ms/step - loss: 0.3123 - accuracy: 0.8589 - val_loss: 0.3095 - val_accuracy: 0.8732\n",
      "Epoch 43/50\n",
      "62/62 [==============================] - 39s 636ms/step - loss: 0.3071 - accuracy: 0.8674 - val_loss: 0.3301 - val_accuracy: 0.8571\n",
      "Epoch 44/50\n",
      "62/62 [==============================] - 39s 631ms/step - loss: 0.3197 - accuracy: 0.8584 - val_loss: 0.3064 - val_accuracy: 0.8753\n",
      "Epoch 45/50\n",
      "62/62 [==============================] - 41s 655ms/step - loss: 0.3065 - accuracy: 0.8619 - val_loss: 0.3569 - val_accuracy: 0.8451\n",
      "Epoch 46/50\n",
      "62/62 [==============================] - 40s 651ms/step - loss: 0.3116 - accuracy: 0.8604 - val_loss: 0.3192 - val_accuracy: 0.8612\n",
      "Epoch 47/50\n",
      "62/62 [==============================] - 39s 624ms/step - loss: 0.2972 - accuracy: 0.8674 - val_loss: 0.3015 - val_accuracy: 0.8612\n",
      "Epoch 48/50\n",
      "62/62 [==============================] - 42s 676ms/step - loss: 0.3157 - accuracy: 0.8639 - val_loss: 0.2975 - val_accuracy: 0.8732\n",
      "Epoch 49/50\n",
      "62/62 [==============================] - 39s 634ms/step - loss: 0.2925 - accuracy: 0.8715 - val_loss: 0.3099 - val_accuracy: 0.8692\n",
      "Epoch 50/50\n",
      "62/62 [==============================] - 44s 711ms/step - loss: 0.2769 - accuracy: 0.8780 - val_loss: 0.2884 - val_accuracy: 0.8833\n"
     ]
    }
   ],
   "source": [
    "opt=Adam(lr=1e-3,decay=1e-3/64)\n",
    "\n",
    "# compile the model\n",
    "model.compile(loss=\"binary_crossentropy\",optimizer=opt,metrics=[\"accuracy\"])\n",
    "\n",
    "# train the head of the model\n",
    "H=model.fit(\n",
    "    train_aug.flow(x_train,y_train,batch_size=64),\n",
    "    steps_per_epoch=len(x_train)//64,\n",
    "    validation_data=(x_test,y_test),\n",
    "    validation_steps=len(x_test)//64,\n",
    "    epochs=20)"
   ]
  },
  {
   "cell_type": "markdown",
   "metadata": {},
   "source": [
    "### plot accuracy vs loss graph"
   ]
  },
  {
   "cell_type": "code",
   "execution_count": 10,
   "metadata": {},
   "outputs": [
    {
     "data": {
      "text/plain": [
       "<matplotlib.legend.Legend at 0x2503dd8de48>"
      ]
     },
     "execution_count": 10,
     "metadata": {},
     "output_type": "execute_result"
    },
    {
     "data": {
      "image/png": "[encoded data removed]",
      "text/plain": [
       "<Figure size 576x432 with 1 Axes>"
      ]
     },
     "metadata": {
      "needs_background": "light"
     },
     "output_type": "display_data"
    }
   ],
   "source": [
    "plt.figure(figsize=(8,6))\n",
    "plt.style.use(\"ggplot\")\n",
    "N=50\n",
    "plt.plot(np.arange(0,N), H.history[\"accuracy\"],label=\"train_accuracy\")\n",
    "plt.plot(np.arange(0,N),H.history[\"val_accuracy\"],label=\"valid_accuracy\")\n",
    "plt.plot(np.arange(0,N),H.history[\"loss\"],label=\"train_loss\")\n",
    "plt.plot(np.arange(0,N),H.history[\"val_loss\"],label=\"val_loss\")\n",
    "\n",
    "plt.xlabel(\"Epoch\")\n",
    "plt.ylabel(\"Accuracy/Loss\")\n",
    "plt.legend()"
   ]
  },
  {
   "cell_type": "markdown",
   "metadata": {},
   "source": [
    "#### Save the Model"
   ]
  },
  {
   "cell_type": "code",
   "execution_count": 12,
   "metadata": {},
   "outputs": [],
   "source": [
    "# saves weights of model\n",
    "model.save_weights(r\"C:\\Users\\SRKT\\Desktop\\Covid_xray\\xray_model.h5\")\n",
    "\n",
    "# save the model to json\n",
    "model_json=model.to_json()\n",
    "with open(r\"C:\\Users\\SRKT\\Desktop\\Covid_xray\\xray.json\",\"w\") as json_file:\n",
    "    json_file.write(model_json)"
   ]
  },
  {
   "cell_type": "code",
   "execution_count": 14,
   "metadata": {},
   "outputs": [],
   "source": [
    "model.save(r\"C:\\Users\\SRKT\\Desktop\\Covid_xray\\model.h5\")"
   ]
  },
  {
   "cell_type": "code",
   "execution_count": null,
   "metadata": {},
   "outputs": [],
   "source": []
  }
 ],
 "metadata": {
  "kernelspec": {
   "display_name": "Python 3.7 (tensorflow)",
   "language": "python",
   "name": "tensorflow"
  },
  "language_info": {
   "codemirror_mode": {
    "name": "ipython",
    "version": 3
   },
   "file_extension": ".py",
   "mimetype": "text/x-python",
   "name": "python",
   "nbconvert_exporter": "python",
   "pygments_lexer": "ipython3",
   "version": "3.7.7"
  }
 },
 "nbformat": 4,
 "nbformat_minor": 4
}
